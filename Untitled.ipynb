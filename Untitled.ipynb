{
 "cells": [
  {
   "attachments": {},
   "cell_type": "markdown",
   "id": "d46921fc-9b61-4491-ad3c-ecb8b049c90f",
   "metadata": {},
   "source": [
    "### Comando cut -d' ' -f 1-5\n",
    "El comando cut -d' ' -f 1-5 se utiliza para extraer columnas específicas de un archivo de texto, utilizando un delimitador de espacio (' '). El parámetro -d' ' especifica que el delimitador entre campos es el espacio, y -f 1-5 indica que se deben extraer los campos del 1 al 5 de cada línea del archivo. Es útil para seleccionar una parte específica de líneas largas, como puede ser la fecha, hora y detalles del sistema en archivos de logs.\n"
   ]
  },
  {
   "cell_type": "markdown",
   "id": "2435578d-7ec9-4534-ace1-a41553941c6e",
   "metadata": {},
   "source": [
    "### Apache.log\n",
    "El archivo `Apache.log` contiene registros (logs) generados por un servidor web Apache. Estos logs suelen traer información sobre solicitudes HTTP, como la dirección IP del cliente, la hora de la solicitud, el tipo de solicitud (GET, POST), la ruta solicitada y el código de estado devuelto por el servidor."
   ]
  },
  {
   "cell_type": "markdown",
   "id": "e4b3fcc9-0997-499d-a1af-223cf87005d2",
   "metadata": {},
   "source": [
    "### 1. Número de líneas:\n"
   ]
  },
  {
   "cell_type": "code",
   "execution_count": 2,
   "id": "392a4673-74aa-40ea-b0cb-d85b8cc93ad3",
   "metadata": {},
   "outputs": [
    {
     "name": "stderr",
     "output_type": "stream",
     "text": [
      "wc: ./dataset/Apache.log: No such file or directory\n"
     ]
    }
   ],
   "source": [
    "!wc -l ./dataset/Apache.log"
   ]
  },
  {
   "cell_type": "markdown",
   "id": "c88e0dcd-b06e-4a14-83de-fe868f843b58",
   "metadata": {},
   "source": [
    "### 2. Número de eventos por mes:\n"
   ]
  },
  {
   "cell_type": "code",
   "execution_count": 5,
   "id": "1c7878f7-5e02-49b6-b58d-5d414ac7c7d2",
   "metadata": {},
   "outputs": [
    {
     "name": "stderr",
     "output_type": "stream",
     "text": [
      "grep: ./dataset/Apache.log: No such file or directory\n"
     ]
    }
   ],
   "source": [
    "!grep -oE \"[A-Za-z]{3}/[0-9]{4}\" ./dataset/Apache.log | sort | uniq -c"
   ]
  },
  {
   "cell_type": "markdown",
   "id": "7f786f1c-b137-4693-be48-e2d2cf9a7888",
   "metadata": {},
   "source": [
    "### 3. Número de eventos por categoría (notice, error, warn):\n"
   ]
  },
  {
   "cell_type": "code",
   "execution_count": 6,
   "id": "874b7d9a-f2ff-4d44-9a1c-8dd81b3734a1",
   "metadata": {},
   "outputs": [
    {
     "name": "stderr",
     "output_type": "stream",
     "text": [
      "grep: ./dataset/Apache.log: No such file or directory\n"
     ]
    }
   ],
   "source": [
    "!grep -E \"(notice|error|warn)\" ./dataset/Apache.log | grep -oE \"(notice|error|warn)\" | sort | uniq -c\n"
   ]
  },
  {
   "cell_type": "markdown",
   "id": "d85eef78-c33b-4834-8328-233cfb5c876d",
   "metadata": {},
   "source": [
    "### 4. Eventos tipo error - listado de clients:\n"
   ]
  },
  {
   "cell_type": "code",
   "execution_count": 7,
   "id": "045795e2-7d46-49e8-8559-ac69146d806b",
   "metadata": {},
   "outputs": [
    {
     "name": "stderr",
     "output_type": "stream",
     "text": [
      "grep: ./dataset/Apache.log: No such file or directory\n"
     ]
    }
   ],
   "source": [
    "!grep \"error\" ./dataset/Apache.log | grep -oE \"[0-9]+\\.[0-9]+\\.[0-9]+\\.[0-9]+\" | sort | uniq -c\n"
   ]
  },
  {
   "cell_type": "markdown",
   "id": "9f682dff-9073-4591-adcb-797e9e4554aa",
   "metadata": {},
   "source": [
    "### 5. Eventos tipo error - listado de archivos que no existen:\n"
   ]
  },
  {
   "cell_type": "code",
   "execution_count": 8,
   "id": "c562f6b3-1468-4936-8b28-6be2663a96bd",
   "metadata": {},
   "outputs": [
    {
     "name": "stderr",
     "output_type": "stream",
     "text": [
      "grep: ./dataset/Apache.log: No such file or directory\n",
      "cut: option requires an argument -- c\n",
      "Try 'cut --help' for more information.\n"
     ]
    }
   ],
   "source": [
    "!grep \"error\" ./dataset/Apache.log | grep \"File does not exist\" | cut -d'\"' -f 2 | sort | uniq -c\n"
   ]
  },
  {
   "cell_type": "markdown",
   "id": "db71f41a-112d-4016-9e57-04d0e6e733f2",
   "metadata": {},
   "source": [
    "### Linux.log\n",
    "El archivo `Linux.log` contiene logs generados por un sistema operativo Linux. Este tipo de logs suele registrar eventos importantes del sistema, como intentos de autenticación, conexiones, errores del sistema y otros eventos relacionados con la administración del sistema.\n"
   ]
  },
  {
   "cell_type": "markdown",
   "id": "2e3c5b56-85cf-4138-9523-52690c2c0dc2",
   "metadata": {},
   "source": [
    "### 1. Número de líneas:"
   ]
  },
  {
   "cell_type": "code",
   "execution_count": 13,
   "id": "8c61ea00-f475-4c06-bd93-84bf4e023d46",
   "metadata": {},
   "outputs": [
    {
     "name": "stderr",
     "output_type": "stream",
     "text": [
      "wc: ./dataset/Linux.log: No such file or directory\n"
     ]
    }
   ],
   "source": [
    "!wc -l ./dataset/Linux.log"
   ]
  },
  {
   "cell_type": "markdown",
   "id": "67adde82-cf85-42c4-953f-997280a0729c",
   "metadata": {},
   "source": [
    "### 2. Número de palabras:\n"
   ]
  },
  {
   "cell_type": "code",
   "execution_count": 14,
   "id": "254ff9da-e94a-4733-b4dd-4d8bec770a6f",
   "metadata": {},
   "outputs": [
    {
     "name": "stderr",
     "output_type": "stream",
     "text": [
      "wc: ./dataset/Linux.log: No such file or directory\n"
     ]
    }
   ],
   "source": [
    "!wc -w ./dataset/Linux.log"
   ]
  },
  {
   "cell_type": "markdown",
   "id": "40129ad0-d232-4b7f-9901-a140f18e352c",
   "metadata": {},
   "source": [
    "### 3. Número de caracteres:\n"
   ]
  },
  {
   "cell_type": "code",
   "execution_count": 15,
   "id": "a245cad2-9d1e-4999-a450-d2f07fd4167a",
   "metadata": {},
   "outputs": [
    {
     "name": "stderr",
     "output_type": "stream",
     "text": [
      "wc: ./dataset/Linux.log: No such file or directory\n"
     ]
    }
   ],
   "source": [
    "!wc -m ./dataset/Linux.log"
   ]
  },
  {
   "cell_type": "markdown",
   "id": "bca5c201-be52-44f9-a96f-7ccd091048ef",
   "metadata": {},
   "source": [
    "### 4. Número de eventos por mes:\n",
    "\n"
   ]
  },
  {
   "cell_type": "code",
   "execution_count": 16,
   "id": "bf14d95f-c623-462d-8962-17526c5a1f52",
   "metadata": {},
   "outputs": [
    {
     "name": "stderr",
     "output_type": "stream",
     "text": [
      "grep: ./dataset/Linux.log: No such file or directory\n"
     ]
    }
   ],
   "source": [
    "!grep -oE \"[A-Za-z]{3} [0-9]{1,2}\" ./dataset/Linux.log | cut -d' ' -f 1 | sort | uniq -c"
   ]
  },
  {
   "cell_type": "markdown",
   "id": "e0120e90-3ca4-4670-a475-405b83101bb0",
   "metadata": {},
   "source": [
    "### 5. Eventos con el string \"authentication failure\" - listado de usuarios y cuántos eventos tienen:\n"
   ]
  },
  {
   "cell_type": "code",
   "execution_count": 17,
   "id": "f7eec2eb-7aef-4259-b9a7-1b1bc268ea89",
   "metadata": {},
   "outputs": [
    {
     "name": "stderr",
     "output_type": "stream",
     "text": [
      "grep: ./dataset/Linux.log: No such file or directory\n"
     ]
    }
   ],
   "source": [
    "!grep \"authentication failure\" ./dataset/Linux.log | grep -oP 'user=\\K\\S+' | sort | uniq -c"
   ]
  },
  {
   "cell_type": "markdown",
   "id": "2eb0fb9c-1e7b-405d-a3dc-8551d217bbc7",
   "metadata": {},
   "source": [
    "### 6. Lista de IPs que establecieron conexión vía FTP y cuántas conexiones realizaron:\n"
   ]
  },
  {
   "cell_type": "code",
   "execution_count": 18,
   "id": "b33a9fb1-5dc4-4345-9aff-1dde969a06eb",
   "metadata": {},
   "outputs": [
    {
     "name": "stderr",
     "output_type": "stream",
     "text": [
      "grep: ./dataset/Linux.log: No such file or directory\n"
     ]
    }
   ],
   "source": [
    "!grep \"ftp\" ./dataset/Linux.log | grep -oE \"[0-9]+\\.[0-9]+\\.[0-9]+\\.[0-9]+\" | sort | uniq -c"
   ]
  },
  {
   "cell_type": "code",
   "execution_count": null,
   "id": "35a07392-c840-476b-86b6-4e360b51cfbb",
   "metadata": {},
   "outputs": [],
   "source": []
  }
 ],
 "metadata": {
  "kernelspec": {
   "display_name": "Python 3 (ipykernel)",
   "language": "python",
   "name": "python3"
  },
  "language_info": {
   "codemirror_mode": {
    "name": "ipython",
    "version": 3
   },
   "file_extension": ".py",
   "mimetype": "text/x-python",
   "name": "python",
   "nbconvert_exporter": "python",
   "pygments_lexer": "ipython3",
   "version": "3.12.6"
  }
 },
 "nbformat": 4,
 "nbformat_minor": 5
}
